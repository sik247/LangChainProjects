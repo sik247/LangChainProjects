{
 "cells": [
  {
   "cell_type": "markdown",
   "metadata": {},
   "source": [
    "### LLM App project \n",
    "\n"
   ]
  },
  {
   "cell_type": "code",
   "execution_count": 1,
   "metadata": {},
   "outputs": [
    {
     "name": "stderr",
     "output_type": "stream",
     "text": [
      "/Users/sanginkang/Desktop/LangChain/llmapp/venv/lib/python3.10/site-packages/pinecone/data/index.py:1: TqdmWarning: IProgress not found. Please update jupyter and ipywidgets. See https://ipywidgets.readthedocs.io/en/stable/user_install.html\n",
      "  from tqdm.autonotebook import tqdm\n"
     ]
    }
   ],
   "source": [
    "import openai\n",
    "from pinecone import Pinecone# Import Pinecone module as-is for SDK usage\n",
    "from langchain.document_loaders import PyPDFDirectoryLoader\n",
    "from langchain.text_splitter import RecursiveCharacterTextSplitter\n",
    "from langchain.embeddings.openai import OpenAIEmbeddings\n",
    "from langchain_pinecone import PineconeVectorStore\n",
    "\n",
    "from langchain.llms import OpenAI\n"
   ]
  },
  {
   "cell_type": "code",
   "execution_count": 2,
   "metadata": {},
   "outputs": [
    {
     "data": {
      "text/plain": [
       "True"
      ]
     },
     "execution_count": 2,
     "metadata": {},
     "output_type": "execute_result"
    }
   ],
   "source": [
    "from dotenv import load_dotenv\n",
    "load_dotenv()\n"
   ]
  },
  {
   "cell_type": "code",
   "execution_count": 3,
   "metadata": {},
   "outputs": [],
   "source": [
    "import os \n"
   ]
  },
  {
   "cell_type": "code",
   "execution_count": 4,
   "metadata": {},
   "outputs": [],
   "source": [
    "## Read pdf file \n",
    "def read_doc(directory):\n",
    "    file_loader = PyPDFDirectoryLoader(directory)\n",
    "    documents = file_loader.load()\n",
    "    return documents"
   ]
  },
  {
   "cell_type": "code",
   "execution_count": 5,
   "metadata": {},
   "outputs": [],
   "source": [
    "doc = read_doc('documents/')\n"
   ]
  },
  {
   "cell_type": "code",
   "execution_count": 6,
   "metadata": {},
   "outputs": [],
   "source": [
    "def chunk_data(docs, chunk_size = 800, chunk_overlap = 50):\n",
    "    text_splitter = RecursiveCharacterTextSplitter (\n",
    "        chunk_size = chunk_size, chunk_overlap = chunk_overlap\n",
    "    )\n",
    "    doc = text_splitter.split_documents(docs)\n",
    "    return doc"
   ]
  },
  {
   "cell_type": "code",
   "execution_count": null,
   "metadata": {},
   "outputs": [],
   "source": [
    "documents = chunk_data(docs = doc)\n",
    "documents"
   ]
  },
  {
   "cell_type": "code",
   "execution_count": null,
   "metadata": {},
   "outputs": [],
   "source": [
    "embeddings = OpenAIEmbeddings(api_key = os.environ[\"OPEN_API_KEY\"])\n"
   ]
  },
  {
   "cell_type": "code",
   "execution_count": 9,
   "metadata": {},
   "outputs": [
    {
     "data": {
      "text/plain": [
       "1536"
      ]
     },
     "execution_count": 9,
     "metadata": {},
     "output_type": "execute_result"
    }
   ],
   "source": [
    "vectors = embeddings.embed_query(\"How are you?\")\n",
    "len(vectors )"
   ]
  },
  {
   "cell_type": "code",
   "execution_count": 10,
   "metadata": {},
   "outputs": [],
   "source": [
    "\n",
    "# Initialize Pinecone using the Pinecone class\n",
    "api_key= os.environ['PINECONE_API_KEY']   \n",
    "# Define index parameters\n",
    "pc = Pinecone(\n",
    "    api_key=api_key)\n",
    "\n",
    "# Define the index name\n",
    "index_name = \"langchainvector\"\n",
    "\n",
    "# Connect to an existing index\n",
    "index = pc.Index(index_name)\n",
    "\n",
    "\n"
   ]
  },
  {
   "cell_type": "code",
   "execution_count": null,
   "metadata": {},
   "outputs": [],
   "source": [
    "print(\"Available indexes:\", pc.list_indexes())\n"
   ]
  },
  {
   "cell_type": "markdown",
   "metadata": {},
   "source": [
    "### We need to export PINECONE_API_KEY here before usage.\n",
    "\n",
    "ex: \n",
    "''' pip install -qU langchain-pinecone  \n",
    "    export PINECONE_API_KEY = \"your-pinecone-api-key\" \n",
    "'''"
   ]
  },
  {
   "cell_type": "code",
   "execution_count": 12,
   "metadata": {},
   "outputs": [
    {
     "name": "stdout",
     "output_type": "stream",
     "text": [
      "Documents successfully stored in Pinecone!\n"
     ]
    }
   ],
   "source": [
    "vector_database_index = PineconeVectorStore.from_documents(\n",
    "    documents=documents,       # List of LangChain Document objects\n",
    "    embedding=embeddings,              # OpenAI embeddings object\n",
    "    index_name=\"langchainvector\",\n",
    ")\n",
    "\n",
    "print(\"Documents successfully stored in Pinecone!\")"
   ]
  },
  {
   "cell_type": "code",
   "execution_count": 22,
   "metadata": {},
   "outputs": [],
   "source": [
    "def retrieve_query(query,k=2):\n",
    "    matching_results=vector_database_index.similarity_search(query,k=k)\n",
    "    return matching_results"
   ]
  },
  {
   "cell_type": "code",
   "execution_count": 23,
   "metadata": {},
   "outputs": [],
   "source": [
    "from langchain.chains.question_answering import load_qa_chain\n",
    "from langchain import OpenAI\n",
    "from langchain.chat_models import ChatOpenAI"
   ]
  },
  {
   "cell_type": "code",
   "execution_count": 24,
   "metadata": {},
   "outputs": [],
   "source": [
    "llm=ChatOpenAI(api_key = os.environ[\"OPEN_API_KEY\"], model_name=\"gpt-4\",temperature=0.5)\n",
    "chain=load_qa_chain(llm,chain_type=\"stuff\")"
   ]
  },
  {
   "cell_type": "code",
   "execution_count": 25,
   "metadata": {},
   "outputs": [],
   "source": [
    "def retrieve_answers(query):\n",
    "    doc_search=retrieve_query(query)\n",
    "    print(doc_search)\n",
    "    response=chain.run(input_documents=doc_search,question=query)\n",
    "    return response"
   ]
  },
  {
   "cell_type": "code",
   "execution_count": 27,
   "metadata": {},
   "outputs": [
    {
     "name": "stdout",
     "output_type": "stream",
     "text": [
      "[Document(id='c4c9345a-992f-4a7a-a5d7-d56915572804', metadata={'page': 18.0, 'source': 'documents/Student-Guide-Module-1-Fundamentals-of-AI.pdf'}, page_content='various tools to managers that help measure the performance of employees, and even select \\nthe right employee for promotion without the element of human bias. \\nPersonal Life \\nOur personal life is full of examples of AI being used daily. Our engagement is seamless and \\ntherefore goes almost unnoticed. However, many of the apps we run on our smartphones are \\nall AI-powered. When we want to listen to music we speak a command, our phone analyses our \\nspeech, understands the task, and runs a search to find the song before playing it.  \\nReminders for a meeting, or to buy groceries on a particular day for your parents or reminding \\nyou to study a particular subject for an upcoming test are all AI interventions in our daily life.'), Document(id='d1921320-4ac9-4195-aa65-be33c6a89a29', metadata={'page': 18.0, 'source': 'documents/Student-Guide-Module-1-Fundamentals-of-AI.pdf'}, page_content='various tools to managers that help measure the performance of employees, and even select \\nthe right employee for promotion without the element of human bias. \\nPersonal Life \\nOur personal life is full of examples of AI being used daily. Our engagement is seamless and \\ntherefore goes almost unnoticed. However, many of the apps we run on our smartphones are \\nall AI-powered. When we want to listen to music we speak a command, our phone analyses our \\nspeech, understands the task, and runs a search to find the song before playing it.  \\nReminders for a meeting, or to buy groceries on a particular day for your parents or reminding \\nyou to study a particular subject for an upcoming test are all AI interventions in our daily life.')]\n",
      "AI is used in our daily lives in many ways. For instance, many of the apps we use on our smartphones are AI-powered. When we want to listen to music, we can speak a command and our phone will analyze our speech, understand the task, and run a search to find the song before playing it. AI also assists in setting reminders for meetings, to buy groceries on a particular day, or to study a particular subject for an upcoming test. These are all examples of AI interventions in our daily life.\n"
     ]
    }
   ],
   "source": [
    "our_query = \"What is the usecase for AI in our daily lives\"\n",
    "answer = retrieve_answers(our_query)\n",
    "print(answer)"
   ]
  }
 ],
 "metadata": {
  "kernelspec": {
   "display_name": "venv",
   "language": "python",
   "name": "python3"
  },
  "language_info": {
   "codemirror_mode": {
    "name": "ipython",
    "version": 3
   },
   "file_extension": ".py",
   "mimetype": "text/x-python",
   "name": "python",
   "nbconvert_exporter": "python",
   "pygments_lexer": "ipython3",
   "version": "3.10.0"
  }
 },
 "nbformat": 4,
 "nbformat_minor": 2
}
