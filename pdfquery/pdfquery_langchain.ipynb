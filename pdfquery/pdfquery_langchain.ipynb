{
 "cells": [
  {
   "cell_type": "markdown",
   "metadata": {},
   "source": [
    "## PDF Query Langchain Project "
   ]
  },
  {
   "cell_type": "markdown",
   "metadata": {},
   "source": [
    "### Dependencies \n",
    "\n"
   ]
  },
  {
   "cell_type": "code",
   "execution_count": 1,
   "metadata": {},
   "outputs": [],
   "source": [
    "!pip install -q cassio datasets langchain openai tiktoken \n",
    "\n"
   ]
  },
  {
   "cell_type": "code",
   "execution_count": 2,
   "metadata": {},
   "outputs": [
    {
     "name": "stderr",
     "output_type": "stream",
     "text": [
      "/Users/sanginkang/Desktop/LangChain/venv/lib/python3.9/site-packages/tqdm/auto.py:21: TqdmWarning: IProgress not found. Please update jupyter and ipywidgets. See https://ipywidgets.readthedocs.io/en/stable/user_install.html\n",
      "  from .autonotebook import tqdm as notebook_tqdm\n"
     ]
    }
   ],
   "source": [
    "from langchain.vectorstores.cassandra import Cassandra #this is db \n",
    "from langchain.indexes.vectorstore import VectorStoreIndexWrapper\n",
    "from langchain.llms import OpenAI\n",
    "from langchain.embeddings import OpenAIEmbeddings\n",
    "\n",
    "from datasets import load_dataset \n",
    "\n",
    "import os\n",
    "import cassio\n"
   ]
  },
  {
   "cell_type": "code",
   "execution_count": 3,
   "metadata": {},
   "outputs": [
    {
     "name": "stdout",
     "output_type": "stream",
     "text": [
      "Requirement already satisfied: PyPDF2 in /Users/sanginkang/Desktop/LangChain/venv/lib/python3.9/site-packages (3.0.1)\n",
      "Requirement already satisfied: typing_extensions>=3.10.0.0 in /Users/sanginkang/Desktop/LangChain/venv/lib/python3.9/site-packages (from PyPDF2) (4.12.2)\n"
     ]
    }
   ],
   "source": [
    "! pip install PyPDF2"
   ]
  },
  {
   "cell_type": "code",
   "execution_count": 4,
   "metadata": {},
   "outputs": [],
   "source": [
    "from PyPDF2 import PdfReader\n"
   ]
  },
  {
   "cell_type": "code",
   "execution_count": 5,
   "metadata": {},
   "outputs": [],
   "source": [
    "ASTRADB_APPLICATION_TOKEN = \"AstraCS:xDinaAcaIFQJHjMziuQNopvI:1ccebab198afc3b69b822590fa7b5a4247b9000553f5d1d5bd0746503c8f139d\"\n",
    "ASTRA_DB_ID = \"5e83bc72-e3bf-48c8-a325-5b034181dabe\"\n",
    "OPENAPI_KEY = os.getenv(\"OPEN_API_KEY\")"
   ]
  },
  {
   "cell_type": "markdown",
   "metadata": {},
   "source": [
    "### Read Document"
   ]
  },
  {
   "cell_type": "code",
   "execution_count": 6,
   "metadata": {},
   "outputs": [],
   "source": [
    "pdfreader = PdfReader('World Bank Annual Report 2024.pdf')"
   ]
  },
  {
   "cell_type": "code",
   "execution_count": 7,
   "metadata": {},
   "outputs": [],
   "source": [
    "from typing_extensions import Concatenate\n",
    "\n",
    "raw_text = ' '\n",
    "for i, page in enumerate(pdfreader.pages):\n",
    "    content = page.extract_text()\n",
    "    if content:\n",
    "        raw_text += content "
   ]
  },
  {
   "cell_type": "markdown",
   "metadata": {},
   "source": [
    "### Initialize DB "
   ]
  },
  {
   "cell_type": "code",
   "execution_count": 8,
   "metadata": {},
   "outputs": [],
   "source": [
    "cassio.init(token=ASTRADB_APPLICATION_TOKEN, database_id= ASTRA_DB_ID)\n"
   ]
  },
  {
   "cell_type": "code",
   "execution_count": 9,
   "metadata": {},
   "outputs": [
    {
     "name": "stderr",
     "output_type": "stream",
     "text": [
      "/var/folders/5q/9x8zl08n4xz0vrx4cygd2lyw0000gn/T/ipykernel_75371/2108375935.py:1: LangChainDeprecationWarning: The class `OpenAI` was deprecated in LangChain 0.0.10 and will be removed in 1.0. An updated version of the class exists in the :class:`~langchain-openai package and should be used instead. To use it run `pip install -U :class:`~langchain-openai` and import as `from :class:`~langchain_openai import OpenAI``.\n",
      "  llm = OpenAI(api_key = OPENAPI_KEY )\n",
      "/var/folders/5q/9x8zl08n4xz0vrx4cygd2lyw0000gn/T/ipykernel_75371/2108375935.py:2: LangChainDeprecationWarning: The class `OpenAIEmbeddings` was deprecated in LangChain 0.0.9 and will be removed in 1.0. An updated version of the class exists in the :class:`~langchain-openai package and should be used instead. To use it run `pip install -U :class:`~langchain-openai` and import as `from :class:`~langchain_openai import OpenAIEmbeddings``.\n",
      "  embedding = OpenAIEmbeddings(api_key=OPENAPI_KEY)\n"
     ]
    }
   ],
   "source": [
    "llm = OpenAI(api_key = OPENAPI_KEY )\n",
    "embedding = OpenAIEmbeddings(api_key=OPENAPI_KEY)"
   ]
  },
  {
   "cell_type": "markdown",
   "metadata": {},
   "source": [
    "# Create Vector Store \n"
   ]
  },
  {
   "cell_type": "code",
   "execution_count": 10,
   "metadata": {},
   "outputs": [],
   "source": [
    "astra_vector_store = Cassandra(\n",
    "    embedding = embedding,\n",
    "    table_name = \"QA_Demo\",\n",
    "    session = None ,\n",
    "    keyspace = None\n",
    "\n",
    ")"
   ]
  },
  {
   "cell_type": "markdown",
   "metadata": {},
   "source": [
    "## Create chunks of text and placei n store"
   ]
  },
  {
   "cell_type": "code",
   "execution_count": 11,
   "metadata": {},
   "outputs": [],
   "source": [
    "from langchain.text_splitter import CharacterTextSplitter\n",
    "\n",
    "text_splitter = CharacterTextSplitter(\n",
    "    separator = \"\\n\",\n",
    "    chunk_size = 800,\n",
    "    chunk_overlap = 200,\n",
    "    length_function = len\n",
    "\n",
    ")\n",
    "\n",
    "text = text_splitter.split_text(raw_text)\n",
    "\n",
    "\n",
    "\n"
   ]
  },
  {
   "cell_type": "code",
   "execution_count": 12,
   "metadata": {},
   "outputs": [
    {
     "data": {
      "text/plain": [
       "['A BETTER \\nBANK FOR \\nA BETTER \\nWORLD\\nANNUAL REPORT 20241\\nTHE WORLD BANK ANNUAL REPORT 2024 THE WORLD BANK ANNUAL REPORT 2024CONTENTS\\nThis annual report, which covers the period from \\nJuly 1, 2023, to June 30, 2024, has been prepared \\nby the Executive Directors of both the International \\nBank for Reconstruction and Development (IBRD) and \\nthe International Development Association (IDA)—\\ncollectively known as the World Bank—in accordance \\nwith the respective bylaws of the two institutions. \\nAjay Banga, President of the World Bank Group and \\nChairman of the Board of Executive Directors, has \\nsubmitted this report, together with the accompanying \\nadministrative budgets and audited financial \\nstatements, to the Board of Governors. \\nAnnual reports for the other World Bank Group',\n",
       " 'submitted this report, together with the accompanying \\nadministrative budgets and audited financial \\nstatements, to the Board of Governors. \\nAnnual reports for the other World Bank Group \\ninstitutions—the International Finance Corporation \\n(IFC), the Multilateral Investment Guarantee Agency \\n(MIGA), and the International Centre for Settlement \\nof Investment Disputes (ICSID)—are published \\nseparately. Key highlights from each institution’s annual \\nreport are available in the World Bank Group Annual \\nReport Summary. Message from the President 6\\nMessage from the Executive Directors 8\\nBecoming a Better Bank  10\\nFiscal 2024 Financial Summary 12\\nResults by Region 14\\nResults by Theme 44\\nHow We Work  68\\nKEY TABLES\\nIBRD Key Financial Indicators, Fiscal 2020–24 84',\n",
       " 'Becoming a Better Bank  10\\nFiscal 2024 Financial Summary 12\\nResults by Region 14\\nResults by Theme 44\\nHow We Work  68\\nKEY TABLES\\nIBRD Key Financial Indicators, Fiscal 2020–24 84\\nIDA Key Financial Indicators, Fiscal 2020–24 88\\nThroughout the report, the term World Bank and the \\nabbreviated Bank  refer only to IBRD and IDA; the term \\nWorld Bank Group  and the abbreviated Bank Group  \\nrefer to the five institutions. All dollar amounts used \\nin this report are current U.S. dollars unless otherwise \\nspecified. Funds allocated to multiregional projects are \\naccounted for by recipient country where possible in \\ntables and text when referring to regional breakdowns. \\nFor sector and theme breakdowns, funds are \\naccounted for by operation. Fiscal year commitments',\n",
       " 'tables and text when referring to regional breakdowns. \\nFor sector and theme breakdowns, funds are \\naccounted for by operation. Fiscal year commitments \\nand disbursements data are in accordance with the \\naudited figures reported in the IBRD and IDA Financial \\nStatements and Management’s Discussion and \\nAnalysis documents for fiscal 2024. As a result of \\nrounding, numbers in tables may not add to totals, and \\npercentages in figures may not add to 100.3\\nTHE WORLD BANK ANNUAL REPORT 2024 THE WORLD BANK ANNUAL REPORT 2024 2 3 THE WORLD BANK ANNUAL REPORT 2024OUR VISION  \\nOur vision is to create a world free of poverty on a \\nlivable planet.\\nOUR MISSION  \\nOur mission is to end extreme poverty and boost shared \\nprosperity on a livable planet. This is threatened by',\n",
       " 'Our vision is to create a world free of poverty on a \\nlivable planet.\\nOUR MISSION  \\nOur mission is to end extreme poverty and boost shared \\nprosperity on a livable planet. This is threatened by \\nmultiple, intertwined crises. Time is of the essence. \\nWe are building a better Bank to drive impactful \\ndevelopment that is:\\n•  Inclusive of everyone, including women and \\nyoung people;\\n•  Resilient to shocks, including against climate and \\nbiodiversity crises, pandemics and fragility;\\n•  Sustainable, through growth and job creation, \\nhuman development, fiscal and debt management, \\nfood security and access to clean air, water, and \\naffordable energy.\\nT o achieve this, we will work with all clients as one \\nWorld Bank Group, in close partnership with other',\n",
       " 'food security and access to clean air, water, and \\naffordable energy.\\nT o achieve this, we will work with all clients as one \\nWorld Bank Group, in close partnership with other \\nmultilateral institutions, the private sector, and \\ncivil society.\\nOUR CORE VALUES  \\nOur work is guided by our core values: impact, \\nintegrity, respect, teamwork, and innovation. \\nThese inform everything we do, everywhere we work.ABOUT US\\nThe World Bank Group is one \\nof the world’s largest sources \\nof funding and knowledge for \\ndeveloping countries. Our five \\ninstitutions share a commitment \\nto reducing poverty, increasing \\nshared prosperity, and promoting \\nsustainable development.5 4\\nTHE WORLD BANK ANNUAL REPORT 2024 THE WORLD BANK ANNUAL REPORT 2024\\nDRIVING ACTION, \\nMEASURING RESULTS',\n",
       " 'to reducing poverty, increasing \\nshared prosperity, and promoting \\nsustainable development.5 4\\nTHE WORLD BANK ANNUAL REPORT 2024 THE WORLD BANK ANNUAL REPORT 2024\\nDRIVING ACTION, \\nMEASURING RESULTS\\nThe World Bank Group contributes to impactful, meaningful  \\ndevelopment results around the world. In the first half of fiscal 2024*, we:\\nHelped feed  156 million people\\nImproved schooling for  \\n280 million studentsProvided healthy water,  \\nsanitation, and/or hygiene to  \\n59 million people\\nReached  287 million people living in \\npoverty with effective social protection support†Enabled access to  \\nsustainable transportation for  \\n77 million people\\nProvided  17 gigawatts  \\nof renewable energy capacity\\nCommitted to devote 45 percent  of  \\nannual financing to climate action by 2025,',\n",
       " 'sustainable transportation for  \\n77 million people\\nProvided  17 gigawatts  \\nof renewable energy capacity\\nCommitted to devote 45 percent  of  \\nannual financing to climate action by 2025,  \\ndeployed equally between mitigation and adaptation\\nIn fiscal 2024, the Bank Group announced the \\ndevelopment of a new Scorecard that will track results \\nacross 22 indicators—a fraction of the previous 150—\\nto provide a streamlined, clear picture of progress \\non all aspects of the Bank Group’s mission, from \\nimproving access to healthcare to making food systems \\nsustainable to boosting private investment.For the first time, the work of all Bank Group \\nfinancing institutions will be tracked through the same \\nset of indicators. The new Scorecard will track the',\n",
       " 'sustainable to boosting private investment.For the first time, the work of all Bank Group \\nfinancing institutions will be tracked through the same \\nset of indicators. The new Scorecard will track the \\nBank Group’s overarching vision of ending poverty on a \\nlivable planet. \\n* The development of the new Scorecard is ongoing at the time of printing; therefore, this report can only account for results up to December 31, 2023.  \\nAs of the 2024 IMF-World Bank Group Annual Meetings, the full fiscal 2024 Scorecard data will be available at: https:/ /scorecard.worldbankgroup.org.\\n† IBRD and IDA only indicator.7\\nTHE WORLD BANK ANNUAL REPORT 2024 6 THE WORLD BANK ANNUAL REPORT 2024\\nMESSAGE FROM THE PRESIDENT\\nWe are helping developing countries create jobs and',\n",
       " '† IBRD and IDA only indicator.7\\nTHE WORLD BANK ANNUAL REPORT 2024 6 THE WORLD BANK ANNUAL REPORT 2024\\nMESSAGE FROM THE PRESIDENT\\nWe are helping developing countries create jobs and \\nemployment, the surest enablers of prosperity. In the \\nnext 10 years, 1.2 billion young people across the Global \\nSouth will become working-age adults. Yet, in the same \\nperiod and the same countries, only 424 million jobs are \\nexpected to be created. The cost of hundreds of millions \\nof young people with no hope for a decent job or future \\nis unimaginable, and we are working urgently to create \\nopportunity for all. \\nIn response to climate change—arguably the greatest \\nchallenge of our generation—we’re channeling 45 \\npercent of annual financing to climate action by 2025,',\n",
       " 'opportunity for all. \\nIn response to climate change—arguably the greatest \\nchallenge of our generation—we’re channeling 45 \\npercent of annual financing to climate action by 2025, \\ndeployed equally between mitigation and adaptation. \\nAmong other efforts, we intend to launch at least 15 \\ncountry-led methane-reduction programs by fiscal \\n2026, and our Forest Carbon Partnership Facility has \\nhelped strengthen high-integrity carbon markets.\\nAccess to electricity is a fundamental human right \\nand foundational to any successful development \\neffort. It will accelerate the digital transformation in \\ndeveloping countries, strengthen public infrastructure, \\nand prepare people for the jobs of tomorrow. But half \\nthe population of Africa—600 million people—lacks',\n",
       " 'developing countries, strengthen public infrastructure, \\nand prepare people for the jobs of tomorrow. But half \\nthe population of Africa—600 million people—lacks \\naccess to electricity. In response, we have committed to \\nprovide electricity to 300 million people in Sub- Saharan \\nAfrica by 2030 in partnership with the African \\nDevelopment Bank.DELIVERING ON OUR \\nCOMMITMENTS REQUIRES \\nUS TO DEVELOP NEW \\nAND BETTER WAYS OF \\nWORKING. IN FISCAL 2024, \\nWE DID JUST THAT.\\nAJAY BANGA\\nIn fiscal 2024, the World Bank Group adopted a bold \\nnew vision of a world free of poverty on a livable planet. \\nT o achieve this, the Bank Group is enacting reforms to \\nbecome a better partner to governments, the private \\nsector, and, ultimately, the people we serve. Rarely in',\n",
       " 'T o achieve this, the Bank Group is enacting reforms to \\nbecome a better partner to governments, the private \\nsector, and, ultimately, the people we serve. Rarely in \\nour 80-year history has our work been more urgent: We \\nface declining progress in our fight against poverty, an \\nexistential climate crisis, mounting public debt, food \\ninsecurity, an unequal pandemic recovery, and the \\neffects of geopolitical conflict. \\nResponding to these intertwined challenges requires \\na faster, simpler, and more efficient World Bank \\nGroup. We are refocusing to confront these challenges \\nnot just through funding, but with knowledge. Our \\nKnowledge Compact for Action , published in fiscal \\n2024, details how we will empower all Bank Group',\n",
       " 'not just through funding, but with knowledge. Our \\nKnowledge Compact for Action , published in fiscal \\n2024, details how we will empower all Bank Group \\nclients, public and private, by making our wealth of Recognizing that digitalization is the transformational \\nopportunity of our time, we are collaborating with \\ngovernments in more than 100 developing countries to \\nenable digital economies. Our digital lending portfolio \\ntotaled $5.6 billion in commitments as of June 2024; and \\nour new Digital Vice Presidency unit will lead our efforts \\nto establish the foundations of a digital economy. Key \\ninitiatives include building and enhancing digital and \\ndata infrastructure, ensuring cybersecurity and data \\nprivacy for institutions, businesses, and citizens, and',\n",
       " 'initiatives include building and enhancing digital and \\ndata infrastructure, ensuring cybersecurity and data \\nprivacy for institutions, businesses, and citizens, and \\nadvancing digital government services.\\nDelivering on our commitments requires us to develop \\nnew and better ways of working. In fiscal 2024, we \\ndid just that. We are squeezing our balance sheet \\nand finding new opportunities to take more risk and \\nboost our lending. Our new crisis preparedness and \\nresponse tools, Global Challenge Programs, and Livable \\nPlanet Fund demonstrate how we are modernizing our \\napproach to better drive impact and outcomes. Our new \\nScorecard radically changes how we track results. \\nBut we cannot enable development on our own. We need \\npartners from both the public and private sectors to join',\n",
       " 'Scorecard radically changes how we track results. \\nBut we cannot enable development on our own. We need \\npartners from both the public and private sectors to join \\nour efforts. That’s why we are working closely with other \\nmultilateral development banks to improve the lives of \\npeople in developing countries in tangible, measurable \\nways. Our deepening relationship with the private \\nsector is evidenced by our Private Sector Investment \\nLab, which is working to address the barriers preventing \\nprivate sector investment in emerging markets. The \\nLab’s core group of 15 Chief Executive Officers and \\nChairs meets regularly, and already has informed our \\nwork—most notably with the development of the World \\nBank Group Guarantee Platform. \\nThe impact and innovations we delivered this year will',\n",
       " 'Chairs meets regularly, and already has informed our \\nwork—most notably with the development of the World \\nBank Group Guarantee Platform. \\nThe impact and innovations we delivered this year will \\nallow us to move forward with a raised ambition and \\na greater sense of urgency to improve people’s lives. I \\nwould like to recognize the remarkable efforts of our \\nstaff and Executive Directors, as well as the unwavering \\nsupport of our clients and partners. T ogether, we \\nhead into fiscal 2025 with a great sense of optimism— \\nand determination to create a better Bank for a \\nbetter  world.\\nAJAY BANGA  \\nPresident of the World Bank Group \\nand Chairman of the Board of Executive Directorsdevelopment knowledge more accessible. And we have \\nreorganized the World Bank’s global practices into',\n",
       " 'AJAY BANGA  \\nPresident of the World Bank Group \\nand Chairman of the Board of Executive Directorsdevelopment knowledge more accessible. And we have \\nreorganized the World Bank’s global practices into \\nfive Vice Presidency units—People, Prosperity, Planet, \\nInfrastructure, and Digital—for more flexible and faster \\nengagements with clients. Each of these units reached \\nimportant milestones in fiscal 2024. \\nWe are supporting countries in delivering quality, \\naffordable health services to 1.5 billion people by 2030 \\nso our children and grandchildren will lead healthier, \\nbetter lives. This is part of our larger global effort to \\nprovide a basic standard of care through every stage \\nof a person’s life—infancy, childhood, adolescence, \\nand adulthood. T o help people withstand food-affected',\n",
       " 'provide a basic standard of care through every stage \\nof a person’s life—infancy, childhood, adolescence, \\nand adulthood. T o help people withstand food-affected \\nshocks and crises, we are strengthening social \\nprotection services to support half a billion people by \\nthe end of 2030—aiming for half of these beneficiaries \\nto be women. 9\\nTHE WORLD BANK ANNUAL REPORT 2024 THE WORLD BANK ANNUAL REPORT 2024 8\\nMESSAGE FROM THE EXECUTIVE DIRECTORS\\nTHE 2023 ANNUAL MEETINGS MARKED \\nAN IMPORTANT MILESTONE FOR THE \\nWORLD BANK GROUP AS DEVELOPMENT \\nCOMMITTEE MEMBERS ENDORSED THE \\nINSTITUTION’S NEW VISION OF A WORLD',\n",
       " 'THE 2023 ANNUAL MEETINGS MARKED \\nAN IMPORTANT MILESTONE FOR THE \\nWORLD BANK GROUP AS DEVELOPMENT \\nCOMMITTEE MEMBERS ENDORSED THE \\nINSTITUTION’S NEW VISION OF A WORLD \\nFREE OF POVERTY ON A LIVABLE PLANET.Front row (left to right): Parameswaran Iyer, India; Abdulaziz Al Mulla, Kuwait; Ernesto Acevedo, Mexico; Felice Gorordo, United States (Alternate Executive \\nDirector); Vel Gnanendran, United Kingdom; Matteo Bugamelli, Italy (Dean); Junhong Chang, China (Co-Dean); Dominique Favre, Switzerland; Ayanda Dlodlo, \\nSouth Africa; Abdoul Salam Bello, Niger; Arnaud Buissé, France\\nBack row (left to right): Daniel Pierini, Argentina; Lene Lind, Norway; Katharine Rechico, Canada; Suhail Saeed, Saudi Arabia; Michael Krake, Germany;',\n",
       " 'Back row (left to right): Daniel Pierini, Argentina; Lene Lind, Norway; Katharine Rechico, Canada; Suhail Saeed, Saudi Arabia; Michael Krake, Germany; \\nMarcos Chiliatto, Brazil; Hideaki Imamura, Japan; Floribert Ngaruko, Burundi; Il Young Park, Korea (Republic of); Hayrettin Demircan, Türkiye; \\nWempi Saputra, Indonesia; Eugene Rhuggenaath, Netherlands; Roman Marshavin, Russian Federation; T auqir Shah, Pakistan\\nExecutive Directors welcome the Bank Group’s \\ndeepening partnerships with multilateral development \\nbanks and the private sector. The One World Bank \\nGroup Partnership Charter, published in May 2024, \\nhighlights the principles that define our work with \\npartners and restates our vision of the partner we aspire \\nto be. The Private Sector Investment Lab, launched in',\n",
       " 'highlights the principles that define our work with \\npartners and restates our vision of the partner we aspire \\nto be. The Private Sector Investment Lab, launched in \\nJune 2023, is working to address the barriers preventing \\nprivate sector investment in emerging markets. \\nThrough travel to several client countries this year, \\nExecutive Directors witnessed the Bank Group’s impact \\nfirsthand. During trips to Saudi Arabia (December  2023); \\nChina, Fiji, and Samoa (January–February 2024); \\nKazakhstan, Kyrgyz Republic, and T ajikistan \\n(March 2024); and Kenya and Estonia (May 2024),  \\nBoard members engaged with key government officials, \\nprivate sector representatives, Bank Group staff, \\nbeneficiaries of Bank Group operations, donors, and  \\nother pertinent stakeholders.',\n",
       " 'Board members engaged with key government officials, \\nprivate sector representatives, Bank Group staff, \\nbeneficiaries of Bank Group operations, donors, and  \\nother pertinent stakeholders. \\nLooking ahead to fiscal 2025, the Executive Directors \\nand management remain committed to sharpening \\nthe Bank Group’s approach to better serve people in \\nlow-income countries. The Executive Directors extend \\ntheir gratitude to Ajay Banga for his leadership in \\nspearheading the evolution of the Bank Group, and \\nsincerely thank all staff across the institution for their \\ncontinued hard work and unwavering commitment to \\nthe mission of ending poverty on a livable planet.In fiscal 2024, the World Bank Group Boards of \\nExecutive Directors supported the institution’s ongoing',\n",
       " 'the mission of ending poverty on a livable planet.In fiscal 2024, the World Bank Group Boards of \\nExecutive Directors supported the institution’s ongoing \\nefforts to become a better Bank. These operational \\nenhancements are both timely and necessary: While \\neconomic growth prospects for the near term have \\nimproved slightly, easing fears of a global recession, \\nthe post-pandemic recovery remains weak in many \\ndeveloping countries, and pre-existing social stresses \\nendure. The world is increasingly unlikely to achieve \\nthe 2030 Sustainable Development Goals, and climate \\nchange, biodiversity loss, and escalating geopolitical \\ntensions further threaten development. T o help countries \\naddress these intertwined challenges, the World Bank',\n",
       " 'change, biodiversity loss, and escalating geopolitical \\ntensions further threaten development. T o help countries \\naddress these intertwined challenges, the World Bank \\nGroup committed $117.5 billion (including $37.6 billion \\nfrom IBRD, $31.2 billion from IDA, $31.7 billion from IFC, \\n$8.2 billion from MIGA, and $8.9 billion in recipient-\\nexecuted disbursing activities) in fiscal 2024.\\nThe 2023 Annual Meetings marked an important \\nmilestone for the World Bank Group as Development \\nCommittee members endorsed the institution’s new \\nvision of a world free of poverty on a livable planet. \\nSince then, the Bank Group has implemented core \\nreforms to build a better Bank, including enhancing \\nits financial capacity; reinforcing its emphasis on \\nresults; and improving its operational effectiveness',\n",
       " 'reforms to build a better Bank, including enhancing \\nits financial capacity; reinforcing its emphasis on \\nresults; and improving its operational effectiveness \\nand efficiency. The Bank Group has also developed a \\nnew Scorecard and crisis preparedness and response \\ntools; launched the Global Challenge Programs and World Bank Group Guarantee Platform; developed a \\nKnowledge Compact; forged four new partnerships \\n(with the Asian Infrastructure Investment Bank, the \\nEuropean Bank for Reconstruction and Development, \\nthe Inter-American Development Bank, and the \\nIslamic Development Bank); and streamlined the \\nimplementation of the World Bank’s Environmental and \\nSocial Framework. \\nExecutive Directors commend the Bank Group’s \\ncommitment to devote 45 percent of annual financing',\n",
       " 'implementation of the World Bank’s Environmental and \\nSocial Framework. \\nExecutive Directors commend the Bank Group’s \\ncommitment to devote 45 percent of annual financing \\nto climate action by 2025, deployed equally between \\nmitigation and adaptation. IFC and MIGA will intensify \\nefforts to boost private sector financing for climate \\nadaptation. Executive Directors also applaud the Bank \\nGroup’s 2030 commitments to provide electricity \\naccess to 300 million people in Africa in partnership \\nwith the African Development Bank and to provide \\nquality, affordable healthcare to 1.5 billion people.\\nThe Bank Group is enhancing its financing model to \\ncreate safer, more prosperous communities in low-\\nincome countries. Since the 2023 Annual Meetings,',\n",
       " 'The Bank Group is enhancing its financing model to \\ncreate safer, more prosperous communities in low-\\nincome countries. Since the 2023 Annual Meetings, \\nthe Bank Group has raised funds for the IDA Crisis \\nFacility and maintained IDA’s financial capacity of \\n$30 billion per year for fiscal 2024 and 2025. Bank \\nGroup management has proposed enhancements to \\nIDA’s Capital Adequacy Framework that are expected \\nto expand IDA’s financing by $20 billion through fiscal 2037. Executive Directors anticipate the funding \\ngenerated by these measures, coupled with strong \\ndonor contributions for the December 2024 IDA \\nreplenishment, will improve lives and equip nations to \\ntackle immediate crises and long-term development \\ngoals. Beyond financing, achieving these goals requires',\n",
       " 'replenishment, will improve lives and equip nations to \\ntackle immediate crises and long-term development \\ngoals. Beyond financing, achieving these goals requires \\nthe unwavering commitment of current and new donors, \\nclient countries, and the World Bank. \\nIBRD has made significant progress in enhancing its \\nfinancial capacity while continuing to protect its triple-A \\nrating and long-term financial stability. New financial \\ninstruments—such as hybrid capital, a portfolio \\nguarantee platform, and the Livable Planet Fund—\\nhave been approved, and contributions have already \\nbeen pledged by some Bank Group shareholders. The \\nBoard recently approved the Framework for Financial \\nIncentives, which will encourage IBRD countries to boost \\ninvestments in global challenges with cross-border',\n",
       " 'Board recently approved the Framework for Financial \\nIncentives, which will encourage IBRD countries to boost \\ninvestments in global challenges with cross-border \\nimpact. Progress has been made toward enhancing \\nthe value of callable capital. In addition, IFC and \\nMIGA are expanding their investment and guarantee \\nofferings, including new instruments to mobilize private \\ncapital. Executive Directors look forward to the further \\noperationalization of the Loss and Damage Fund, which \\nis expected to be a significant resource in assisting \\ndeveloping nations affected by natural disasters linked \\nto climate change. 11 10\\nTHE WORLD BANK ANNUAL REPORT 2024 THE WORLD BANK ANNUAL REPORT 2024\\nBECOMING A \\nBETTER BANK \\nThe world is confronting a set of intertwined challenges—',\n",
       " 'to climate change. 11 10\\nTHE WORLD BANK ANNUAL REPORT 2024 THE WORLD BANK ANNUAL REPORT 2024\\nBECOMING A \\nBETTER BANK \\nThe world is confronting a set of intertwined challenges—\\npoverty, the climate crisis, debt, food insecurity, pandemics, \\nand fragility—and a need to accelerate access to clean air, \\nenergy, and water. Time is of the essence.\\nWe need a better Bank to address these challenges and the challenges \\nof tomorrow.\\nThe G20 Leaders requested the World Bank Group to change and be a more \\nsignificant part of the solution. In response, we raised our ambition for speed, \\nsimplicity, better leveraging our balance sheet, and engaging partners and the \\nprivate sector. Here’s how we are enhancing our approach: \\nFINANCIAL INNOVATIONS\\nOur new financial instruments are',\n",
       " 'simplicity, better leveraging our balance sheet, and engaging partners and the \\nprivate sector. Here’s how we are enhancing our approach: \\nFINANCIAL INNOVATIONS\\nOur new financial instruments are \\ndesigned to boost lending capacity \\nand enable the World Bank Group \\nto take on more risk for shared \\nglobal challenges. We’ve squeezed \\n$40 billion over 10 years from our \\nbalance sheet by adjusting our loan-\\nto-equity ratio. We’ve launched a \\nhybrid-capital instrument. Our Livable \\nPlanet Fund, launched in April 2024, \\noffers governments, philanthropies, \\nand other partners an opportunity \\nto contribute to our concessional \\nresources for middle-income countries.PRIVATE SECTOR  \\nINVESTMENT LAB\\nThe Private Sector Investment Lab \\nis a collaborative initiative between',\n",
       " 'to contribute to our concessional \\nresources for middle-income countries.PRIVATE SECTOR  \\nINVESTMENT LAB\\nThe Private Sector Investment Lab \\nis a collaborative initiative between \\nthe World Bank Group and directors \\nof leading global private sector \\ninstitutions. Its goal is to develop \\nsolutions that address existing \\nbarriers to private sector investment \\nin emerging markets and developing \\neconomies. The Lab’s core group of \\n15 CEOs and Chairs have delivered \\nrecommendations on regulatory \\ncertainty, increased use of guarantees, \\nforeign-exchange-risk mitigation, and \\nincreased use of originate-to-distribute \\nmodels for mobilization of private \\ncapital. Their feedback has already \\ninformed the development of the World \\nBank Group Guarantee Platform. WORLD BANK GROUP  \\nGUARANTEE PLATFORM',\n",
       " 'models for mobilization of private \\ncapital. Their feedback has already \\ninformed the development of the World \\nBank Group Guarantee Platform. WORLD BANK GROUP  \\nGUARANTEE PLATFORM\\nThis new platform is delivering \\nsimplicity and improved access to our \\nguarantee products, putting us on a \\npath to boost our annual guarantee \\nissuance to $20 billion by 2030—and \\nmultiply our mobilization of private \\ncapital many times.KNOWLEDGE BANK\\nKnowledge has been critical to the \\nWorld Bank Group for 80 years, and \\nwe are refocusing ourselves not just \\nas a funding mechanism, but also as \\na source of knowledge. T o do this, we \\nare bringing experts to the forefront \\nof our country-driven model, working \\nwith governments to craft focused \\ndevelopment plans that marry \\ntheir ambition and our expertise.',\n",
       " 'are bringing experts to the forefront \\nof our country-driven model, working \\nwith governments to craft focused \\ndevelopment plans that marry \\ntheir ambition and our expertise. \\nThe Knowledge Compact for Action  \\ndetails this approach, with a focus \\non four areas: new and updated \\nknowledge products, strategic \\npartnerships, enhanced learning, and \\ncutting-edge systems.WORLD BANK  \\nGROUP SCORECARD\\nAccountability and focus underpin \\nall our work. Our new Scorecard is \\na yardstick of accountability and a \\ncornerstone of our efforts for greater \\nefficiency, impact, and results. This \\ntool allows our shareholders and \\ntaxpayers to clearly see the impact \\nwe are making, rewarding their trust.GLOBAL EMERGING MARKETS  \\nRISK DATABASE (GEMS) \\nCONSORTIUM\\nThe GEMs Consortium comprises',\n",
       " 'tool allows our shareholders and \\ntaxpayers to clearly see the impact \\nwe are making, rewarding their trust.GLOBAL EMERGING MARKETS  \\nRISK DATABASE (GEMS) \\nCONSORTIUM\\nThe GEMs Consortium comprises \\n25 multilateral development \\nbanks and development finance \\ninstitutions. The World Bank Group \\nand the GEMs Consortium are driving \\ntransparency and mobilizing private \\ninvestment in emerging markets \\nby releasing comprehensive credit \\nrisk data.\\nCRISIS PREPAREDNESS  \\nAND RESPONSE TOOLKIT\\nThe World Bank Group is rolling out \\nan expanded Crisis Preparedness \\nand Response T oolkit to help \\ndeveloping countries better respond \\nto crises and build resilience against \\nfuture shocks. Climate Resilient \\nDebt Clauses allow small states to \\nprioritize disaster recovery over debt',\n",
       " 'developing countries better respond \\nto crises and build resilience against \\nfuture shocks. Climate Resilient \\nDebt Clauses allow small states to \\nprioritize disaster recovery over debt \\nrepayment when catastrophes hit.TABLE 1: WORLD BANK GROUP COMMITMENTS, DISBURSEMENTS, AND GROSS ISSUANCE\\nBY FISCAL YEAR, MILLIONS OF DOLLARS\\n2020 2021 2022 2023 2024\\nWorld Bank Group\\nCommitmentsa83,547 98,830 104,370 128,341 117,492\\nDisbursementsb54,367 60,596 67,041 91,391 89,000\\nIBRD\\nCommitmentsc27,976 30,523 33,072 38,572 37,568\\nDisbursements 20,238 23,691 28,168 25,504 33,450\\nIDA\\nCommitmentsc,d30,365 36,028 37,727 34,245 31,195\\nDisbursementsd21,179 22,921 21,214 27,718 28,247\\nIFC\\nCommitmentse17,604 20,669 22,229 27,704 31,654\\nDisbursements 10,518 11,438 13,198 18,689 19,147\\nMIGA',\n",
       " 'Disbursementsd21,179 22,921 21,214 27,718 28,247\\nIFC\\nCommitmentse17,604 20,669 22,229 27,704 31,654\\nDisbursements 10,518 11,438 13,198 18,689 19,147\\nMIGA\\nGross issuance 3,961 5,199 4,935 6,446 8,204\\nRecipient-Executed Disbursing Activities\\nCommitments 3,641 6,411 6,407 21,374 8,871\\nDisbursements 2,433 2,546 4,461 19,480 8,156World Bank Group financing for partner countries\\na.  Includes IBRD, IDA, IFC, Recipient-Executed Disbursing Activities (REDA) commitments, and MIGA gross issuance. REDA commitments include all \\nrecipient-executed grants; hence, total World Bank Group commitments differ from the amount reported in the Scorecard, which includes only a \\nsubset of trust-funded activities. REDA Commitments reported are Gross Grant Approved amounts.',\n",
       " 'subset of trust-funded activities. REDA Commitments reported are Gross Grant Approved amounts.\\nb. Includes IBRD, IDA, IFC, and REDA disbursements.\\nc. Amounts are net of full terminations and cancellations relating to commitments approved in the same fiscal year.\\nd. Commitments and disbursements exclude IDA-IFC-MIGA Private Sector Window activities.\\ne.  Includes long-term commitments for IFC’s own account and short-term finance commitments. Does not include funds mobilized from other investors.\\n13 12\\nTHE WORLD BANK ANNUAL REPORT 2024 THE WORLD BANK ANNUAL REPORT 2024FISCAL 2024 \\nFINANCIAL SUMMARY\\nGLOBAL COMMITMENTS\\nIn fiscal 2024, the World Bank Group provided much-needed financing, \\nconducted research and analysis, and partnered with governments,',\n",
       " 'FINANCIAL SUMMARY\\nGLOBAL COMMITMENTS\\nIn fiscal 2024, the World Bank Group provided much-needed financing, \\nconducted research and analysis, and partnered with governments, \\nthe private sector, and other institutions to address global \\ndevelopment challenges.\\nT otal includes multiregional and global operations. Regional totals reflect IFC commitments that were recalculated to \\nmatch the World Bank’s regional classifications by aggregating country-level commitments within each World Bank region.$117.5B \\n(BILLION)\\nin loans, grants, equity investments, and guarantees  \\nto partner countries and private businesses.\\nAFRICA\\n$38.0B\\n(BILLION) EAST ASIA AND \\nPACIFIC\\n$12.5B\\n(BILLION) EUROPE AND \\nCENTRAL ASIA\\n$24.7B \\n(BILLION) LATIN AMERICA AND \\nTHE CARIBBEAN\\n$19.4B \\n(BILLION) \\nMIDDLE EAST AND',\n",
       " 'AFRICA\\n$38.0B\\n(BILLION) EAST ASIA AND \\nPACIFIC\\n$12.5B\\n(BILLION) EUROPE AND \\nCENTRAL ASIA\\n$24.7B \\n(BILLION) LATIN AMERICA AND \\nTHE CARIBBEAN\\n$19.4B \\n(BILLION) \\nMIDDLE EAST AND \\nNORTH AFRICA\\n$6.5B \\n(BILLION) SOUTH ASIA\\n$15.9B \\n(BILLION) GLOBAL\\n$0.4B \\n(BILLION) World Bank Group institutions\\nThe World Bank Group is one of the world’s largest sources of funding \\nand knowledge for developing countries. Its five institutions share a \\ncommitment to reducing poverty, increasing shared prosperity, and \\npromoting sustainable development. \\nInternational Bank for Reconstruction and \\nDevelopment (IBRD) \\nProvides financial products and policy advice to help \\ncountries reduce poverty and extend the benefits of \\nsustainable growth to all their people.\\nInternational Development Association (IDA)',\n",
       " 'Provides financial products and policy advice to help \\ncountries reduce poverty and extend the benefits of \\nsustainable growth to all their people.\\nInternational Development Association (IDA) \\nProvides concessional grants and loans to the \\ngovernments of the world’s 75 poorest countries.\\nInternational Finance Corporation (IFC) \\nProvides loans, guarantees, equity, advisory services, \\nproject development services, and mobilizes additional capital from other sources to grow private sector \\ninvestment in developing countries.\\nMultilateral Investment Guarantee Agency (MIGA) \\nProvides guarantees against non-commercial \\nrisks to facilitate the flow of foreign investment in \\ndeveloping countries. \\nInternational Centre for Settlement of Investment \\nDisputes (ICSID)',\n",
       " 'Provides guarantees against non-commercial \\nrisks to facilitate the flow of foreign investment in \\ndeveloping countries. \\nInternational Centre for Settlement of Investment \\nDisputes (ICSID) \\nProvides international facilities for conciliation, \\nmediation, and arbitration of investment disputes.14 THE WORLD BANK ANNUAL REPORT 2024 THE WORLD BANK ANNUAL REPORT 2024 15 THE WORLD BANK ANNUAL REPORT 2024RESULTS  \\nBY REGIONTABLE 2: EASTERN AND SOUTHERN AFRICA\\nREGIONAL COMMITMENTS AND DISBURSEMENTS—FISCAL 2022–24\\nCOMMITMENTS ($ MILLIONS) DISBURSEMENTS ($ MILLIONS)\\nFY22 FY23 FY24 FY22 FY23 FY24\\nIBRD 2,907 2,364 2,914 2,441 1,690 3,126\\nIDA 15,266 14,368 12,735 7,133 10,417 10,696\\nPortfolio of operations under implementation as of June 30, 2024: $78.8 billion.\\n16',\n",
       " 'FY22 FY23 FY24 FY22 FY23 FY24\\nIBRD 2,907 2,364 2,914 2,441 1,690 3,126\\nIDA 15,266 14,368 12,735 7,133 10,417 10,696\\nPortfolio of operations under implementation as of June 30, 2024: $78.8 billion.\\n16\\nTHE WORLD BANK ANNUAL REPORT 2024 17 THE WORLD BANK ANNUAL REPORT 2024EASTERN AND  \\nSOUTHERN AFRICA\\nImproving education and health services\\nIn fiscal 2024, we approved the East Africa Girls’ \\nEmpowerment and Resilience Program to support more \\nthan 2 million girls to stay in or return to school and \\nenable 160,000 women to increase their productivity \\nin the labor market in Mozambique and Madagascar. \\nThe program is expected to reach more than 6 million \\npeople—including traditional leaders, parents, and \\nboys—through behavioral change and will enhance the',\n",
       " 'The program is expected to reach more than 6 million \\npeople—including traditional leaders, parents, and \\nboys—through behavioral change and will enhance the \\ncapacity of 26,000 local administrators, community \\nleaders, and service providers to implement gender \\nequality reforms. AT-A-GLANCE\\nAcross Eastern and Southern Africa, we aim to improve access to quality \\neducation, health, water, and sanitation facilities; sustainable and clean \\nenergy; efficient government services; and digital connectivity. In fiscal \\n2024, the World Bank approved $15.6 billion for 96 operations in the \\nregion, including $2.9 billion in IBRD commitments and $12.7 billion in IDA \\ncommitments. We also leveraged data and analytics to help countries in \\nthe region reach their development potential.',\n",
       " 'region, including $2.9 billion in IBRD commitments and $12.7 billion in IDA \\ncommitments. We also leveraged data and analytics to help countries in \\nthe region reach their development potential. \\nIn the Democratic Republic of Congo, we are increasing \\naccess to education, particularly for girls, and improving \\nteaching-learning conditions at secondary schools in \\nselected provinces. This includes creating safe and \\ninclusive school environments, strengthening curriculum \\nand educational materials, as well as equipping girls and \\nboys with digital skills. In T anzania, our results-based \\nfinancing education program led to 1.6 million students \\nenrolling in preprimary and primary schools. \\nT o improve school attendance in Ethiopia, we are \\nequipping more than 5,000 schools with essential',\n",
       " 'enrolling in preprimary and primary schools. \\nT o improve school attendance in Ethiopia, we are \\nequipping more than 5,000 schools with essential \\nwater, sanitation, and hygiene (WASH) facilities and Expanding access to electricity  \\nacross Rwanda \\nThe World Bank Group and the African \\nDevelopment Bank have committed to provide \\nelectricity to 300 million people in Sub-Saharan \\nAfrica by 2030. T ogether, we aim to help countries \\nacross Sub-Saharan Africa expand energy access \\nwhile addressing climate change.\\nRwanda, which has expanded electricity access \\nfrom 6 percent in 2009 to more than 75 percent \\nas of March 2024, is leading the way. One hundred \\npercent of its health centers and administrative \\nfacilities and 84 percent of its schools now \\nhave electricity.',\n",
       " 'as of March 2024, is leading the way. One hundred \\npercent of its health centers and administrative \\nfacilities and 84 percent of its schools now \\nhave electricity. \\nThe Government of Rwanda laid the foundation \\nfor this remarkable progress in 2008, when it \\nengrained electrification targets in its national \\nstrategies and set up the Electricity Access Rollout \\nProgram to implement cost-effective strategies. \\nThe World Bank accelerated progress by initiating \\n$475 million in Development Policy Operation \\nloans, with Rwanda implementing comprehensive \\nenergy sector policies that focused on sustainable \\nelectricity expansion and fiscal responsibility, \\nincluding tariff reforms, geo-spatial planning, \\nmeasures for affordability, and strategies for',\n",
       " 'energy sector policies that focused on sustainable \\nelectricity expansion and fiscal responsibility, \\nincluding tariff reforms, geo-spatial planning, \\nmeasures for affordability, and strategies for \\noff-grid electrification. As a result, Rwanda \\nhas maintained electricity sector subsidies \\nbelow 1.4 percent of GDP while aggressively \\nexpanding electrification.TABLE 3: EASTERN AND SOUTHERN AFRICA\\nREGIONAL SNAPSHOT\\nINDICATOR 2000 2012 CURRENT DATAa\\nT otal population (millions) 401.6 552.5 739.1\\nPopulation growth (annual %) 2.6 2.7 2.5\\nGNI per capita (Atlas method, current US$) 664.0 1,653.7 1,601.6\\nGDP per capita growth (annual %) 0.6 (1.0) 0.1\\nPopulation living below $2.15 a day (millions) 226.3 233.4 277.9\\nLife expectancy at birth, females (years) 53.7 62.1 65.5',\n",
       " 'GDP per capita growth (annual %) 0.6 (1.0) 0.1\\nPopulation living below $2.15 a day (millions) 226.3 233.4 277.9\\nLife expectancy at birth, females (years) 53.7 62.1 65.5\\nLife expectancy at birth, males (years) 50.2 57.9 60.4\\nCarbon dioxide emissions (megatons) 358.0 546.8 545.0\\nExtreme poverty (% of population below $2.15 a day, 2017 PPP) 56.4 42.2 42.8\\nDebt service as a proportion of exports of goods, services, and primary incomeb11.9 6.2 15.8\\nRatio of female to male labor force participation rate (%) (modeled ILO estimate) 85.2 85.6 87.1\\nVulnerable employment, total (% of total employment) (modeled ILO estimate) 73.8 73.5 72.5\\nUnder-5 mortality rate per 1,000 live births 137.7 78.1 55.3\\nPrimary completion rate (% of relevant age group) 49.4 67.9 72.3']"
      ]
     },
     "execution_count": 12,
     "metadata": {},
     "output_type": "execute_result"
    }
   ],
   "source": [
    "text[:50]"
   ]
  },
  {
   "cell_type": "code",
   "execution_count": 13,
   "metadata": {},
   "outputs": [
    {
     "name": "stdout",
     "output_type": "stream",
     "text": [
      "Inserted 50 headlines.\n"
     ]
    }
   ],
   "source": [
    "astra_vector_store.add_texts(text[:50])\n",
    "\n",
    "print(\"Inserted %i headlines.\" % len(text[:50]))\n",
    "\n",
    "astra_vector_index = VectorStoreIndexWrapper(vectorstore = astra_vector_store)"
   ]
  },
  {
   "cell_type": "code",
   "execution_count": 15,
   "metadata": {},
   "outputs": [
    {
     "name": "stdout",
     "output_type": "stream",
     "text": [
      "\n",
      "Question: \"What was the main contribution to Tanzania?\"\n",
      "\n",
      "Answer: \"The results-based financing education program that led to 1.6 million students enrolling in preprimary and primary schools.\"\n",
      "\n",
      "     [0.8946] \"region, including $2.9 billion in IBRD commitments and $12.7 billion in IDA \n",
      "commitm....\"\n",
      "     [0.8946] \"region, including $2.9 billion in IBRD commitments and $12.7 billion in IDA \n",
      "commitm....\"\n",
      "     [0.8946] \"region, including $2.9 billion in IBRD commitments and $12.7 billion in IDA \n",
      "commitm....\"\n",
      "     [0.8945] \"region, including $2.9 billion in IBRD commitments and $12.7 billion in IDA \n",
      "commitm....\"\n",
      "\n",
      "Question: \"What are some of the major contribution that happened in this report\"\n",
      "\n",
      "Answer: \"This is not mentioned in the context given.\"\n",
      "\n",
      "     [0.9006] \"submitted this report, together with the accompanying \n",
      "administrative budgets and au....\"\n",
      "     [0.9006] \"submitted this report, together with the accompanying \n",
      "administrative budgets and au....\"\n",
      "     [0.9006] \"submitted this report, together with the accompanying \n",
      "administrative budgets and au....\"\n",
      "     [0.9006] \"submitted this report, together with the accompanying \n",
      "administrative budgets and au....\"\n"
     ]
    }
   ],
   "source": [
    "first_q = True \n",
    "while True: \n",
    "    if first_q:\n",
    "        query_text = input(\"\\nEnter your question (or type 'quit' to exit): \").strip()\n",
    "    else:\n",
    "        query_text = input(\"\\nWhats your next questions (or type 'quit' to exit): \").strip()\n",
    "    if query_text.lower() == 'quit':\n",
    "        break\n",
    "    if query_text == \"\":\n",
    "        continue \n",
    "    first_q = False \n",
    "    print(\"\\nQuestion: \\\"%s\\\"\" % query_text)\n",
    "    answer = astra_vector_index.query(query_text, llm=llm).strip()\n",
    "    print(\"\\nAnswer: \\\"%s\\\"\\n\" %  answer)\n",
    "\n",
    "    for doc, score in astra_vector_store.similarity_search_with_score(query_text, k = 4):\n",
    "        print(\"     [%0.4f] \\\"%s....\\\"\" % (score, doc.page_content[:84]))\n"
   ]
  }
 ],
 "metadata": {
  "kernelspec": {
   "display_name": "venv",
   "language": "python",
   "name": "python3"
  },
  "language_info": {
   "codemirror_mode": {
    "name": "ipython",
    "version": 3
   },
   "file_extension": ".py",
   "mimetype": "text/x-python",
   "name": "python",
   "nbconvert_exporter": "python",
   "pygments_lexer": "ipython3",
   "version": "3.9.20"
  }
 },
 "nbformat": 4,
 "nbformat_minor": 2
}
